{
  "cells": [
    {
      "cell_type": "markdown",
      "metadata": {
        "id": "view-in-github",
        "colab_type": "text"
      },
      "source": [
        "<a href=\"https://colab.research.google.com/github/DibiaCorp85/fine-tuning_nllb-200_600M/blob/main/_Fine_Tuning_En_Zu_LaTn.ipynb\" target=\"_parent\"><img src=\"https://colab.research.google.com/assets/colab-badge.svg\" alt=\"Open In Colab\"/></a>"
      ]
    },
    {
      "cell_type": "code",
      "execution_count": null,
      "metadata": {
        "id": "46HOKOHDsASy"
      },
      "outputs": [],
      "source": []
    },
    {
      "cell_type": "markdown",
      "metadata": {
        "id": "hMTxEDN6sEjk"
      },
      "source": [
        "## **Install Dependencies**"
      ]
    },
    {
      "cell_type": "code",
      "execution_count": null,
      "metadata": {
        "id": "zrAh2JE3sEf8"
      },
      "outputs": [],
      "source": [
        "!pip install --quiet chainlit pyngrok datasets transformers evaluate accelerate peft sacrebleu rouge_score bitsandbytes"
      ]
    },
    {
      "cell_type": "code",
      "execution_count": null,
      "metadata": {
        "id": "TP3dw5L8D204"
      },
      "outputs": [],
      "source": [
        "!pip install --quiet --upgrade fsspec datasets"
      ]
    },
    {
      "cell_type": "markdown",
      "metadata": {
        "id": "9y9wq391sEdk"
      },
      "source": [
        "## **Import Core Libraries**"
      ]
    },
    {
      "cell_type": "code",
      "execution_count": null,
      "metadata": {
        "id": "m7ir1BGVsEa_"
      },
      "outputs": [],
      "source": [
        "import os\n",
        "import random\n",
        "import torch\n",
        "from torch.optim import AdamW\n",
        "from datasets import (load_dataset,\n",
        "                      concatenate_datasets,\n",
        "                      DatasetDict,\n",
        "                      Dataset,\n",
        "                      get_dataset_config_names,\n",
        "                      Features,\n",
        "                      ClassLabel,\n",
        "                      Value,\n",
        "                      Translation\n",
        "                      )\n",
        "\n",
        "from transformers import (\n",
        "    Seq2SeqTrainer,\n",
        "    Seq2SeqTrainingArguments,\n",
        "    AutoTokenizer,\n",
        "    AutoModelForSeq2SeqLM,\n",
        "    DataCollatorForSeq2Seq,\n",
        "    EarlyStoppingCallback,\n",
        "    BitsAndBytesConfig,\n",
        ")\n",
        "from torch.utils.tensorboard import SummaryWriter\n",
        "import evaluate\n",
        "import pandas as pd\n",
        "from sklearn.model_selection import train_test_split\n",
        "\n",
        "from peft import (\n",
        "    TaskType,\n",
        "    LoraConfig,\n",
        "    get_peft_model,\n",
        "    PeftModel,\n",
        "    PeftConfig,\n",
        ")\n",
        "\n",
        "from huggingface_hub import login\n",
        "from google.colab import drive\n",
        "import getpass\n",
        "from pyngrok import conf, ngrok\n",
        "import subprocess\n",
        "import time"
      ]
    },
    {
      "cell_type": "code",
      "execution_count": null,
      "metadata": {
        "colab": {
          "base_uri": "https://localhost:8080/"
        },
        "id": "DB89k0d3sEXI",
        "outputId": "94a79cb2-fc01-4f69-9deb-bc97827e612c"
      },
      "outputs": [
        {
          "name": "stdout",
          "output_type": "stream",
          "text": [
            "Mounted at /content/drive\n"
          ]
        }
      ],
      "source": [
        "# Mount Google Drive to save model and logs\n",
        "\n",
        "drive.mount('/content/drive', force_remount = True)\n",
        "save_dir = \"/content/drive/MyDrive/Colab Notebooks/NLLB_200/En-Zu_LaTn\"\n",
        "os.makedirs(save_dir, exist_ok = True)"
      ]
    },
    {
      "cell_type": "markdown",
      "metadata": {
        "id": "jGPT4cP7sEUt"
      },
      "source": [
        "## **Load Datasets**\n",
        "\n",
        "English-\"Language\" datasets are loaded from Hugging Face.\n",
        "\n",
        "For this process, the following language is considered:\n",
        "* Zulu\n",
        "\n",
        "The following are the datasets are used:\n",
        "\n",
        "* Opus100 containing the above listed languages paired with English language"
      ]
    },
    {
      "cell_type": "markdown",
      "metadata": {
        "id": "G4wxoGrp5SpN"
      },
      "source": [
        "### **Opus100 Dataset**"
      ]
    },
    {
      "cell_type": "code",
      "execution_count": null,
      "metadata": {
        "colab": {
          "base_uri": "https://localhost:8080/"
        },
        "id": "yC2sCb91sERW",
        "outputId": "6d507f77-5536-41bd-9398-3d8ffcc9b3bb"
      },
      "outputs": [
        {
          "name": "stderr",
          "output_type": "stream",
          "text": [
            "/usr/local/lib/python3.11/dist-packages/huggingface_hub/utils/_auth.py:94: UserWarning: \n",
            "The secret `HF_TOKEN` does not exist in your Colab secrets.\n",
            "To authenticate with the Hugging Face Hub, create a token in your settings tab (https://huggingface.co/settings/tokens), set it as secret in your Google Colab and restart your session.\n",
            "You will be able to reuse this secret in all of your notebooks.\n",
            "Please note that authentication is recommended but still optional to access public models or datasets.\n",
            "  warnings.warn(\n"
          ]
        },
        {
          "name": "stdout",
          "output_type": "stream",
          "text": [
            " The English-Zulu language pair is present in Opus100 dataset:\n",
            " - en-zu (zulu)\n"
          ]
        }
      ],
      "source": [
        "login(\"HUGGING FACE ACCESS TOKEN KEY\")\n",
        "\n",
        "# List of desired target languages ISO codes(to pair with English Language)\n",
        "target_language = {\"zu\" : \"zulu\"}\n",
        "\n",
        "source_language = \"en\" # Fixed source language\n",
        "\n",
        "desired_pairs = [f\"{source_language}-{tgt}\" for tgt in target_language]\n",
        "\n",
        "# Fetch all configurations from Opus100\n",
        "available_configs = get_dataset_config_names(\"opus100\")\n",
        "\n",
        "# Filter those that exist in Opus100\n",
        "present_pairs = [pair for pair in desired_pairs if pair in available_configs]\n",
        "missing_pairs = [pair for pair in desired_pairs if pair not in available_configs]\n",
        "\n",
        "# Print results\n",
        "print(\" The English-Zulu language pair is present in Opus100 dataset:\")\n",
        "for pair in present_pairs:\n",
        "    print(f\" - {pair} ({target_language[pair.split('-')[1]]})\")"
      ]
    },
    {
      "cell_type": "markdown",
      "metadata": {
        "id": "uMTkEkrisEPK"
      },
      "source": [
        "#### **Load dataset**"
      ]
    },
    {
      "cell_type": "code",
      "execution_count": null,
      "metadata": {
        "colab": {
          "base_uri": "https://localhost:8080/"
        },
        "id": "RLOJlAoOsEM2",
        "outputId": "99c76e5d-5bf5-418a-d796-8b65b4a88011"
      },
      "outputs": [
        {
          "name": "stdout",
          "output_type": "stream",
          "text": [
            "English-Zulu language pair downloaded!\n"
          ]
        }
      ],
      "source": [
        "# English-Yoruba\n",
        "selected_language = [\"zu\"]\n",
        "\n",
        "if \"zu\" in selected_language:\n",
        "    try:\n",
        "        opus_en_zu = load_dataset(\"opus100\", \"en-zu\")\n",
        "        print(\"English-Zulu language pair downloaded!\")\n",
        "    except Exception as e:\n",
        "        print(\"Failed to download English-Zulu:\", e)"
      ]
    },
    {
      "cell_type": "markdown",
      "metadata": {
        "id": "UBRXB-QEsECn"
      },
      "source": [
        "## **Qualitative and Quantitative Examination of Datasets**"
      ]
    },
    {
      "cell_type": "markdown",
      "metadata": {
        "id": "5sP_fn47_KhD"
      },
      "source": [
        "The following is a check-list to examine each dataset:\n",
        "\n",
        "1. Splits\n",
        "2. Features/columns\n",
        "3. Format\n",
        "4. Missing row\n",
        "5. Check internal usaga of language pairs"
      ]
    },
    {
      "cell_type": "markdown",
      "metadata": {
        "id": "sw8QvOLuCwW4"
      },
      "source": [
        "### **Splits Check**"
      ]
    },
    {
      "cell_type": "code",
      "execution_count": null,
      "metadata": {
        "id": "wpROvuCBAZX1"
      },
      "outputs": [],
      "source": [
        "# Check splits\n",
        "def print_split_info(name, dataset):\n",
        "    print(f\"\\n📊 Dataset: {name}\")\n",
        "\n",
        "    if isinstance(dataset, DatasetDict):\n",
        "        for split_name, split in dataset.items():\n",
        "            print(f\"  ➤ Split: {split_name} | Rows: {split.num_rows}\")\n",
        "    elif isinstance(dataset, Dataset):\n",
        "        print(f\"  ➤ Single split | Rows: {dataset.num_rows}\")\n",
        "    else:\n",
        "        print(\"❌ Unrecognized dataset type.\")"
      ]
    },
    {
      "cell_type": "code",
      "execution_count": null,
      "metadata": {
        "colab": {
          "base_uri": "https://localhost:8080/"
        },
        "id": "rXGZYUTUAfLg",
        "outputId": "db8ef3b3-6491-4e43-c4a6-587a6e8200c0"
      },
      "outputs": [
        {
          "name": "stdout",
          "output_type": "stream",
          "text": [
            "\n",
            "📊 Dataset: Opus100: English-Wolof Language Pair\n",
            "  ➤ Split: test | Rows: 2000\n",
            "  ➤ Split: train | Rows: 38616\n",
            "  ➤ Split: validation | Rows: 2000\n"
          ]
        }
      ],
      "source": [
        "print_split_info(\"Opus100: English-Wolof Language Pair\", opus_en_zu)"
      ]
    },
    {
      "cell_type": "markdown",
      "metadata": {
        "id": "339LSrt-CzqX"
      },
      "source": [
        "### **Features/Columns/Schema Check**"
      ]
    },
    {
      "cell_type": "code",
      "execution_count": null,
      "metadata": {
        "id": "-8JngOza_9R1"
      },
      "outputs": [],
      "source": [
        "# Check schema/column names using just the train split\n",
        "def print_dataset_features(datasets_with_names):\n",
        "    \"\"\"\n",
        "    Prints the .features of multiple Hugging Face datasets with names.\n",
        "\n",
        "    Args:\n",
        "        datasets_with_names (list of tuples): List of (dataset, name) pairs.\n",
        "    \"\"\"\n",
        "    for dataset, name in datasets_with_names:\n",
        "        print(f\"\\n📘 Features for: {name}\")\n",
        "        print(dataset.features)"
      ]
    },
    {
      "cell_type": "code",
      "execution_count": null,
      "metadata": {
        "colab": {
          "base_uri": "https://localhost:8080/"
        },
        "id": "s2PbhGxesD-O",
        "outputId": "3a5b4548-b785-491d-e63d-46395b84a944"
      },
      "outputs": [
        {
          "name": "stdout",
          "output_type": "stream",
          "text": [
            "\n",
            "📘 Features for: Opus EN-ZU\n",
            "{'translation': Translation(languages=['en', 'zu'], id=None)}\n"
          ]
        }
      ],
      "source": [
        "print_dataset_features([\n",
        "    (opus_en_zu['train'], \"Opus EN-ZU\")])"
      ]
    },
    {
      "cell_type": "markdown",
      "metadata": {
        "id": "xg6fv3ljsD7-"
      },
      "source": [
        "### **NLLB-Format-Compatibility Check**"
      ]
    },
    {
      "cell_type": "code",
      "execution_count": null,
      "metadata": {
        "colab": {
          "base_uri": "https://localhost:8080/",
          "height": 53
        },
        "id": "aBzZIbQosD6b",
        "outputId": "9e4c323a-82d2-4b6a-ca4a-a3c1d10e7981"
      },
      "outputs": [
        {
          "data": {
            "application/vnd.google.colaboratory.intrinsic+json": {
              "type": "string"
            },
            "text/plain": [
              "'\\n{\\n  \"translation\": {\\n    \"source language\": \"source sentence\",\\n    \"target language\": \"target sentence\"\\n  }\\n}\\n'"
            ]
          },
          "execution_count": 18,
          "metadata": {},
          "output_type": "execute_result"
        }
      ],
      "source": [
        "# The NLLB model expects the following format:\n",
        "\n",
        "\"\"\"\n",
        "{\n",
        "  \"translation\": {\n",
        "    \"source language\": \"source sentence\",\n",
        "    \"target language\": \"target sentence\"\n",
        "  }\n",
        "}\n",
        "\"\"\""
      ]
    },
    {
      "cell_type": "markdown",
      "metadata": {
        "id": "UV-cztQtHQgo"
      },
      "source": [
        "#### **Recast Dataset to NLLB Format**\n",
        "\n",
        "To recast your dataset to the NLLB format, you need to ensure two key things:\n",
        "\n",
        "1. The translation feature uses a tuple of language codes, not a list.\n",
        "\n",
        "2. This format aligns with what the NLLB tokenizer expects, especially for multilingual training."
      ]
    },
    {
      "cell_type": "code",
      "execution_count": null,
      "metadata": {
        "colab": {
          "base_uri": "https://localhost:8080/",
          "height": 113,
          "referenced_widgets": [
            "35357598391142939d8cf6326ee6f35c",
            "22c79207a47c4aed9aca30ae52287856",
            "a234cd932a5f419f9efdd3a46c0c34c2",
            "239174d9185e4354aab9801621bd9d24",
            "3c5bf296ba9d47389e3cdd8928036ed3",
            "b24aececa0b84360afb3b4b7ddbd1d8f",
            "3e9746e91cad425dac7830b7ceb554bb",
            "556e44eec696437e89272ee726cf411f",
            "6a2e07bb08c441c1a33fa32989f9b651",
            "127969e4a3a749a09aee6f2d7a6b563c",
            "8545acb069de4359bad7d28bdedb8f02",
            "8171111a56254371af3be1f0f2234a4a",
            "efed95b1eae34dd3b672aeab7a9205a5",
            "a947e6a7b1d9452b977fbbd10aa49ce1",
            "8a2fb174c56c443488ae4a1063b88497",
            "e41464853bc34b1b82c146d1a2fd75eb",
            "5ffd4680a9bc48be89c331e7d91eab1b",
            "93fe1fda46a04856b7c3d91e7e453d63",
            "f5e70ecd55e64cbf8292918a5993f104",
            "06e3a7ba759349cbb8d569e2792618ba",
            "7123f70929424f4197884dc06cdd65f1",
            "372885f61efa45f89d5b007c1c151a80",
            "da21bcf1b12d47de9814a20a5fbd7c45",
            "b550cf0c735246f98b14251b1c929562",
            "12eb603372e34e2cb28341f38f67eca8",
            "9d6a380903814c94ab7ee983eb05ac52",
            "a9592d48e8084e23befe19c5a00d92b2",
            "bac201add4bc42ecbbb6ee7600cb92f7",
            "f04947f795da4e51ba14852e0467da3e",
            "9fa85a11bd554663bb927bebe87edd7b",
            "0a50cc9d41974d47868564325d5ea376",
            "7aedbf0b7bab401d8b14d7803e8939b1",
            "2b2a696973f9469d871446ae26817242"
          ]
        },
        "id": "o6qrnephHQFB",
        "outputId": "a662ab32-a848-4ab2-e42e-cdeed69ef1a6"
      },
      "outputs": [
        {
          "data": {
            "application/vnd.jupyter.widget-view+json": {
              "model_id": "35357598391142939d8cf6326ee6f35c",
              "version_major": 2,
              "version_minor": 0
            },
            "text/plain": [
              "Casting the dataset:   0%|          | 0/2000 [00:00<?, ? examples/s]"
            ]
          },
          "metadata": {},
          "output_type": "display_data"
        },
        {
          "data": {
            "application/vnd.jupyter.widget-view+json": {
              "model_id": "8171111a56254371af3be1f0f2234a4a",
              "version_major": 2,
              "version_minor": 0
            },
            "text/plain": [
              "Casting the dataset:   0%|          | 0/38616 [00:00<?, ? examples/s]"
            ]
          },
          "metadata": {},
          "output_type": "display_data"
        },
        {
          "data": {
            "application/vnd.jupyter.widget-view+json": {
              "model_id": "da21bcf1b12d47de9814a20a5fbd7c45",
              "version_major": 2,
              "version_minor": 0
            },
            "text/plain": [
              "Casting the dataset:   0%|          | 0/2000 [00:00<?, ? examples/s]"
            ]
          },
          "metadata": {},
          "output_type": "display_data"
        }
      ],
      "source": [
        "# Define the correct NLLB-style features with a tuple\n",
        "translation_features = Features({\n",
        "    \"translation\": Translation(languages=(\"en\", \"zu\"))  # <- Use tuple\n",
        "})\n",
        "\n",
        "# Recast all splits to match NLLB format\n",
        "opus_en_zu = DatasetDict({\n",
        "    split: ds.cast(translation_features)\n",
        "    for split, ds in opus_en_zu.items()\n",
        "})"
      ]
    },
    {
      "cell_type": "code",
      "execution_count": null,
      "metadata": {
        "colab": {
          "base_uri": "https://localhost:8080/"
        },
        "id": "yuzSC57yHQBr",
        "outputId": "e2365a2d-c039-4cdf-d391-533f9b53b450"
      },
      "outputs": [
        {
          "name": "stdout",
          "output_type": "stream",
          "text": [
            "{'translation': Translation(languages=('en', 'zu'), id=None)}\n"
          ]
        }
      ],
      "source": [
        "# Verify format\n",
        "print(opus_en_zu[\"train\"].features)"
      ]
    },
    {
      "cell_type": "markdown",
      "metadata": {
        "id": "rNijpKsUsDyF"
      },
      "source": [
        "### **Check Missing Row**"
      ]
    },
    {
      "cell_type": "code",
      "execution_count": null,
      "metadata": {
        "id": "vRfQs3GgsDui"
      },
      "outputs": [],
      "source": [
        "def check_missing_rows_all_splits(dataset_dict, name, src_lang=None, tgt_lang=None):\n",
        "    \"\"\"\n",
        "    Checks for missing or invalid rows across all splits in a DatasetDict.\n",
        "\n",
        "    Args:\n",
        "        dataset_dict (DatasetDict): The dataset with multiple splits.\n",
        "        name (str): Dataset name for reporting.\n",
        "        src_lang (str): Source language key (e.g., 'en').\n",
        "        tgt_lang (str): Target language key (e.g., 'zu').\n",
        "    \"\"\"\n",
        "    for split_name, split_dataset in dataset_dict.items():\n",
        "        total = len(split_dataset)\n",
        "        missing = 0\n",
        "\n",
        "        for row in split_dataset:\n",
        "            try:\n",
        "                if \"translation\" in row:\n",
        "                    trans = row[\"translation\"]\n",
        "                    src = trans.get(src_lang, \"\").strip() if src_lang else \"\"\n",
        "                    tgt = trans.get(tgt_lang, \"\").strip() if tgt_lang else \"\"\n",
        "                else:\n",
        "                    src = row.get(src_lang, \"\").strip()\n",
        "                    tgt = row.get(tgt_lang, \"\").strip()\n",
        "\n",
        "                if not src or not tgt or len(src) <= 1 or len(tgt) <= 1:\n",
        "                    missing += 1\n",
        "            except Exception:\n",
        "                missing += 1\n",
        "\n",
        "        print(f\"🔍 {name} ({split_name}): {missing} missing / {total} total rows\")\n"
      ]
    },
    {
      "cell_type": "code",
      "execution_count": null,
      "metadata": {
        "colab": {
          "base_uri": "https://localhost:8080/"
        },
        "id": "nn8hyABDsDsc",
        "outputId": "36264791-5329-41fc-c670-0796f70cc71d"
      },
      "outputs": [
        {
          "name": "stdout",
          "output_type": "stream",
          "text": [
            "🔍 Opus EN-ZU (test): 6 missing / 2000 total rows\n",
            "🔍 Opus EN-ZU (train): 47 missing / 38616 total rows\n",
            "🔍 Opus EN-ZU (validation): 5 missing / 2000 total rows\n"
          ]
        }
      ],
      "source": [
        "# Run checks\n",
        "check_missing_rows_all_splits(opus_en_zu, \"Opus EN-ZU\", src_lang=\"en\", tgt_lang=\"zu\")"
      ]
    },
    {
      "cell_type": "markdown",
      "metadata": {
        "id": "Ignb7_4wsDJu"
      },
      "source": [
        "## **Data Cleaning**"
      ]
    },
    {
      "cell_type": "markdown",
      "metadata": {
        "id": "6M_FHykxsDHg"
      },
      "source": [
        "Before we clean, here are some highlight of observations in the examination stage:\n",
        "\n",
        "*  Missing rows\n",
        "  * Opus EN-ZU (train) has 12 missing rows  \n",
        "  We eliminate missing rows in this stage."
      ]
    },
    {
      "cell_type": "markdown",
      "metadata": {
        "id": "Y__pI6DfsC2s"
      },
      "source": [
        "### **Clear Missing Rows**"
      ]
    },
    {
      "cell_type": "code",
      "execution_count": null,
      "metadata": {
        "id": "i0DyAamasC0J"
      },
      "outputs": [],
      "source": [
        "from datasets import DatasetDict\n",
        "\n",
        "def clean_missing_rows(dataset_dict, src_lang=None, tgt_lang=None):\n",
        "    \"\"\"\n",
        "    Removes missing/invalid rows across all splits in a DatasetDict.\n",
        "\n",
        "    Args:\n",
        "        dataset_dict (DatasetDict): The dataset with splits (e.g. train, test, validation).\n",
        "        src_lang (str): Source language key (e.g., 'en').\n",
        "        tgt_lang (str): Target language key (e.g., 'zu').\n",
        "\n",
        "    Returns:\n",
        "        DatasetDict: Cleaned dataset with bad rows removed.\n",
        "    \"\"\"\n",
        "    cleaned_splits = {}\n",
        "\n",
        "    for split_name, split_dataset in dataset_dict.items():\n",
        "        def is_valid(row):\n",
        "            try:\n",
        "                if \"translation\" in row:\n",
        "                    src = row[\"translation\"].get(src_lang, \"\").strip()\n",
        "                    tgt = row[\"translation\"].get(tgt_lang, \"\").strip()\n",
        "                else:\n",
        "                    src = row.get(src_lang, \"\").strip()\n",
        "                    tgt = row.get(tgt_lang, \"\").strip()\n",
        "                return bool(src and tgt and len(src) > 1 and len(tgt) > 1)\n",
        "            except Exception:\n",
        "                return False\n",
        "\n",
        "        print(f\"🧹 Cleaning split: {split_name}...\")\n",
        "        cleaned_split = split_dataset.filter(is_valid)\n",
        "        cleaned_splits[split_name] = cleaned_split\n",
        "        print(f\"✅ {len(cleaned_split)} rows retained from {len(split_dataset)}\")\n",
        "\n",
        "    return DatasetDict(cleaned_splits)\n"
      ]
    },
    {
      "cell_type": "code",
      "execution_count": null,
      "metadata": {
        "colab": {
          "base_uri": "https://localhost:8080/",
          "height": 217,
          "referenced_widgets": [
            "ae26162735954f3c81d63c0b67c54ee9",
            "3e374da8374d4c5a875e3b12087965d8",
            "facd31bbe69e467eb744a50549940cc9",
            "e6776496232a445cb9740cbd592cc56d",
            "8943060bb23e4960b7a4810dacf6725a",
            "b7017564282a4bfc91529dcc7d911e64",
            "738fcca37ce04bfd81e95a55fbb2d365",
            "20b6a3fbde7e44c9a2b2319f74f3971a",
            "b2565ca5bc7440d18726aeaf06bb3333",
            "3529ba1ba2514e7dbee102ad8c4b5e9d",
            "569d899820994759a6fd1c296adafbcb",
            "6f873e8fdff34235bca3d6dc950ed13b",
            "fca31d3233984788afdf865efb52819b",
            "581ab629b9f4402f9bb4d57f0f298b80",
            "89b235d6e7d54e009e57dc0272a343c1",
            "14f8ad2868064c87b96b6f4caa1f176c",
            "ecb316ad7eac4453a947e0913b0e26cf",
            "a7e6a0e1cab84ea5beb677de4b0fe067",
            "2326deffb1774a27bcc24a36e2e7daf0",
            "a90f563e2a8d434c90d92812a04fcbd7",
            "64bfc670cece4e92a3c0fb8ba1489115",
            "317f710abb9a41bfb13e4fd1a5333de5",
            "2659e1cdf2ea4bff8ff539f768a79e58",
            "a69ba21951494e00bbbd45587b4f5c6c",
            "1d367ec50d9a44abbb09bb78de9ee27a",
            "e84b753e0ad54646b6b8c7d2665de2f0",
            "9a64f89a2b924a7d9f072ecb392eaed2",
            "8bb5a9b997464c88a39d487f719394b9",
            "8a428cb659da4e90aa90b58a9cd34fba",
            "575f511a50054bdd83a7ba74f05c2bcb",
            "f10d6d68a22b4261aa86de80ac8b1d4e",
            "7be33d42892a4958a6be983c78ed62a2",
            "c4f2bac893834c4dbc570027f2c8ba0a"
          ]
        },
        "id": "KSbD4cVFsCxX",
        "outputId": "936fe0d0-dae0-4bfd-e5c1-1576ed5e0c2b"
      },
      "outputs": [
        {
          "name": "stdout",
          "output_type": "stream",
          "text": [
            "🧹 Cleaning split: test...\n"
          ]
        },
        {
          "data": {
            "application/vnd.jupyter.widget-view+json": {
              "model_id": "ae26162735954f3c81d63c0b67c54ee9",
              "version_major": 2,
              "version_minor": 0
            },
            "text/plain": [
              "Filter:   0%|          | 0/2000 [00:00<?, ? examples/s]"
            ]
          },
          "metadata": {},
          "output_type": "display_data"
        },
        {
          "name": "stdout",
          "output_type": "stream",
          "text": [
            "✅ 1994 rows retained from 2000\n",
            "🧹 Cleaning split: train...\n"
          ]
        },
        {
          "data": {
            "application/vnd.jupyter.widget-view+json": {
              "model_id": "6f873e8fdff34235bca3d6dc950ed13b",
              "version_major": 2,
              "version_minor": 0
            },
            "text/plain": [
              "Filter:   0%|          | 0/38616 [00:00<?, ? examples/s]"
            ]
          },
          "metadata": {},
          "output_type": "display_data"
        },
        {
          "name": "stdout",
          "output_type": "stream",
          "text": [
            "✅ 38569 rows retained from 38616\n",
            "🧹 Cleaning split: validation...\n"
          ]
        },
        {
          "data": {
            "application/vnd.jupyter.widget-view+json": {
              "model_id": "2659e1cdf2ea4bff8ff539f768a79e58",
              "version_major": 2,
              "version_minor": 0
            },
            "text/plain": [
              "Filter:   0%|          | 0/2000 [00:00<?, ? examples/s]"
            ]
          },
          "metadata": {},
          "output_type": "display_data"
        },
        {
          "name": "stdout",
          "output_type": "stream",
          "text": [
            "✅ 1995 rows retained from 2000\n"
          ]
        }
      ],
      "source": [
        "opus_en_zu_clean = clean_missing_rows(opus_en_zu, src_lang=\"en\", tgt_lang=\"zu\")"
      ]
    },
    {
      "cell_type": "markdown",
      "metadata": {
        "id": "ghLvHPs7IavA"
      },
      "source": [
        "### **Standardize Feature Schema: Confirmation**"
      ]
    },
    {
      "cell_type": "code",
      "execution_count": null,
      "metadata": {
        "colab": {
          "base_uri": "https://localhost:8080/",
          "height": 113,
          "referenced_widgets": [
            "ce84d16ac0b847bc9fe7abfdeaee6f62",
            "d38f197efe964062a86ed96f361e037a",
            "7ebe991da3a1448e8472fe6dbe1377ce",
            "cc287ce8eb144105b850ef53165d3990",
            "aa2e399bd9c647bebb6896f4128bbc61",
            "d227fbba92c54a5ab95463b85aa9e568",
            "225d328bdc5e44708075d6828bb92dbf",
            "04c57f5e826e4898b7ac5699a3b3585d",
            "45c6fa7503904c5e80435b4b4116ed1f",
            "81fa00f595544c728fcfb64de97e3168",
            "9b8a4e9538d04102a80c25c4618d1769",
            "bba2725dfcd34aa2af09c8651b5c031f",
            "4ff9a5993e504a33b9467b47a9f9d8e7",
            "c83a1d27be45463bb4afa19e626bf5fe",
            "d49a47c8caac4201843759bb74df075d",
            "377f9c941ac54c4480286a87183f0db2",
            "bc1a4aaf4e4b487fa31f89fd56c39f7f",
            "a8d88149e7dc4364897b9720b29dfcfa",
            "8df0f645061c4a56ba15fc2dcb0a9362",
            "3b03b3beeaaf4e45a745687c5b922ad8",
            "a229c420704848189c0448b215eaa8c5",
            "1cc88fcf9ead4944be72e801767fe57b",
            "ffc7601e2a4840119f81a765a348833c",
            "e1858674f0d04f58bc1e77d639316865",
            "a8695570aa62457a95437e5d61aa3939",
            "d08048193cda4946867b56b69318609d",
            "2c907c71916648f58cfceed87490a97a",
            "4f7945365bea4cf5a60851e5a75b2c5b",
            "a91ff39f5a844358b382e0bd26d040b1",
            "20fe60a98c484df692bab408c295ff90",
            "77f522288798408f8956386d95ef86c8",
            "cd5dd0a1fd2047ad8f9334f2d92df681",
            "e3547c05926b4ecc887367163f509daa"
          ]
        },
        "id": "WFJaXeoxIk28",
        "outputId": "98100cbd-ef71-4678-bc27-d1a09f4e5102"
      },
      "outputs": [
        {
          "data": {
            "application/vnd.jupyter.widget-view+json": {
              "model_id": "ce84d16ac0b847bc9fe7abfdeaee6f62",
              "version_major": 2,
              "version_minor": 0
            },
            "text/plain": [
              "Casting the dataset:   0%|          | 0/2000 [00:00<?, ? examples/s]"
            ]
          },
          "metadata": {},
          "output_type": "display_data"
        },
        {
          "data": {
            "application/vnd.jupyter.widget-view+json": {
              "model_id": "bba2725dfcd34aa2af09c8651b5c031f",
              "version_major": 2,
              "version_minor": 0
            },
            "text/plain": [
              "Casting the dataset:   0%|          | 0/38616 [00:00<?, ? examples/s]"
            ]
          },
          "metadata": {},
          "output_type": "display_data"
        },
        {
          "data": {
            "application/vnd.jupyter.widget-view+json": {
              "model_id": "ffc7601e2a4840119f81a765a348833c",
              "version_major": 2,
              "version_minor": 0
            },
            "text/plain": [
              "Casting the dataset:   0%|          | 0/2000 [00:00<?, ? examples/s]"
            ]
          },
          "metadata": {},
          "output_type": "display_data"
        }
      ],
      "source": [
        "# Define the correct NLLB-style features with a tuple\n",
        "translation_features = Features({\n",
        "    \"translation\": Translation(languages=(\"en\", \"zu\"))  # <- Use tuple\n",
        "})\n",
        "\n",
        "# Recast all splits to match NLLB format\n",
        "opus_en_zu_clean = DatasetDict({\n",
        "    split: ds.cast(translation_features)\n",
        "    for split, ds in opus_en_zu.items()\n",
        "})"
      ]
    },
    {
      "cell_type": "code",
      "execution_count": null,
      "metadata": {
        "colab": {
          "base_uri": "https://localhost:8080/"
        },
        "id": "sfjekM2LIvG5",
        "outputId": "d913758f-5f7b-436a-bd9f-3bb220c80b3a"
      },
      "outputs": [
        {
          "name": "stdout",
          "output_type": "stream",
          "text": [
            "{'translation': Translation(languages=('en', 'zu'), id=None)}\n"
          ]
        }
      ],
      "source": [
        "print(opus_en_zu_clean[\"train\"].features)"
      ]
    },
    {
      "cell_type": "markdown",
      "metadata": {
        "id": "lxThvG09sCPX"
      },
      "source": [
        "Everything looks fine"
      ]
    },
    {
      "cell_type": "markdown",
      "metadata": {
        "id": "KXznBXbhsCM1"
      },
      "source": [
        "## **Save Dataset to Disc**"
      ]
    },
    {
      "cell_type": "code",
      "execution_count": null,
      "metadata": {
        "colab": {
          "base_uri": "https://localhost:8080/",
          "height": 150,
          "referenced_widgets": [
            "c117cdb97f724df194f58ef6c96998bb",
            "66d96d7afb2744d4bb0547c53cc22283",
            "1f2907837f064a1596e9bcacf9deaf1e",
            "7b34225873474a60bdee5b1b3046a0ca",
            "b9f50049e6c94aa591c87e02746d486a",
            "721a1c36d33040acb085d27758c9bd0a",
            "3fc69510bb574d3ea794169536af89f8",
            "e2634b4d583249dea1295ff29b30764b",
            "e5ee0e12d7424561886587c4379dc4fc",
            "1234f902506c4f9f94d53cfb84c6b077",
            "543e635425bc43ce833c5c7272c1e8c0",
            "3cfd658ff38c4fee9341d16ae30a05ae",
            "b021aea9af344d559252dbb3ffc6bc29",
            "700d61272683490cb2bfe1a6bcfbf580",
            "62f1ff72340f4a489c6550876a8c5e44",
            "7fa67abc86444721be50cc83458d18a5",
            "49dc50b4f8c54618accab86cc26caad1",
            "bedce6ae4b6548d2bb6dbc0c691b44b1",
            "b62352eb0f9d4353a9c028a9b65b1be2",
            "eb41f8383ded4eb7935b50a793941efb",
            "99de8e2ae2d34c8eb98a799cf3721704",
            "b87b53a359b941dd98a5292d1b22e70f",
            "16648e85979e4dbfb93c1083aec87a58",
            "f2e27a618bfb4e9d9e34633d65a36479",
            "2a4c833a2584444a89f740f0a3483028",
            "b6848c9d07214161bad979bf9627fc01",
            "b05ae656db1b4c7893c19bd0c470f1af",
            "19eb91c676cc47b69ba5cf20ca647391",
            "b2a685f0f1f44719af05d82dfd5bb049",
            "ccdefd22a8e74c278cce7fb8ba75679c",
            "54d5c924a165469b9ae4df0c748a6c91",
            "fda248e938d148dbb49effa26fc1c29b",
            "8e6f8e965f794e9e8892eb680a71e89a"
          ]
        },
        "id": "CrkWvHwksCKn",
        "outputId": "22fe9b63-7681-432b-e847-064f5aaaefec"
      },
      "outputs": [
        {
          "data": {
            "application/vnd.jupyter.widget-view+json": {
              "model_id": "c117cdb97f724df194f58ef6c96998bb",
              "version_major": 2,
              "version_minor": 0
            },
            "text/plain": [
              "Saving the dataset (0/1 shards):   0%|          | 0/2000 [00:00<?, ? examples/s]"
            ]
          },
          "metadata": {},
          "output_type": "display_data"
        },
        {
          "data": {
            "application/vnd.jupyter.widget-view+json": {
              "model_id": "3cfd658ff38c4fee9341d16ae30a05ae",
              "version_major": 2,
              "version_minor": 0
            },
            "text/plain": [
              "Saving the dataset (0/1 shards):   0%|          | 0/38616 [00:00<?, ? examples/s]"
            ]
          },
          "metadata": {},
          "output_type": "display_data"
        },
        {
          "data": {
            "application/vnd.jupyter.widget-view+json": {
              "model_id": "16648e85979e4dbfb93c1083aec87a58",
              "version_major": 2,
              "version_minor": 0
            },
            "text/plain": [
              "Saving the dataset (0/1 shards):   0%|          | 0/2000 [00:00<?, ? examples/s]"
            ]
          },
          "metadata": {},
          "output_type": "display_data"
        },
        {
          "name": "stdout",
          "output_type": "stream",
          "text": [
            "✅ Dataset saved to: /content/drive/MyDrive/Colab Notebooks/NLLB_200/En-Zu_LaTn/CleanedZuluDataset\n"
          ]
        }
      ],
      "source": [
        "save_path = f\"{save_dir}/CleanedZuluDataset\"\n",
        "opus_en_zu_clean.save_to_disk(save_path)\n",
        "print(f\"✅ Dataset saved to: {save_path}\")"
      ]
    },
    {
      "cell_type": "markdown",
      "metadata": {
        "id": "B6M7yEkAsCGx"
      },
      "source": [
        "## **Tokenization**"
      ]
    },
    {
      "cell_type": "markdown",
      "metadata": {
        "id": "P8jUXsqsp8wB"
      },
      "source": [
        "### **Load Tokenizer**"
      ]
    },
    {
      "cell_type": "code",
      "execution_count": null,
      "metadata": {
        "colab": {
          "base_uri": "https://localhost:8080/",
          "height": 145,
          "referenced_widgets": [
            "f7826687f7db4812991a282dcb235d39",
            "42ee06026ede4a34913ee5c68d80e23c",
            "43505d85f145440f8ed07f6691a5b061",
            "348ff3b969964a0db452fdc65569adfc",
            "3bfba3ec64234ab2aca9eecf35189cce",
            "97db12867a9b4fc29549d5782a56f8a4",
            "c5ba3c0425ea4901b54c60bfe7fe6e0b",
            "186c3697abbc4616be616fe96a8a0947",
            "ae7c36077fee465a8172387f491d6f6d",
            "11b872e7ca514611b006ebc855445e32",
            "7c39d5c0e3784ce1bbf631c015145a39",
            "68d771b0b22e431189a0e41fe36fa3d3",
            "50cf5dbbd59645859edb74ba860100ba",
            "de9b641f09db400c9a47a3a75ba07cf4",
            "6fd53a2821af41bca15c1647c2deffb2",
            "4ba150479ebb48048bf57f9fcdff38b5",
            "7f00ee6af1b442f79605760ecef3bc25",
            "5c5e3017975a40bab394cd6f44b4cdf0",
            "5d5316639e17438497120989555857ca",
            "99274bf98e8a40aba5eafadb84a8312b",
            "9350ff9e13ef431796242897535bed7d",
            "ebf459de4a90474084e13a5be1652f75",
            "ad5425bd04ad4bb1934a16293a939c9b",
            "ca8baa58ac2d47aeaa338db89df03bf6",
            "1165c49f2e2845eab75c4b9dd491ff80",
            "468aa4fad44247d78f5871177e9f0617",
            "83265a200cab4e72be078e95260b529b",
            "237a415b41b142b2adb3703c51080e89",
            "422a60effdc64a438017526a0a9fdf47",
            "2a34aab993ac4c7d8e9a9beefbbad348",
            "2f302357528b4a9999e0875881c0df76",
            "fb973142115a40908a2aea6705dfe2ae",
            "8ef96fa013764e4eb1fe1dce50ac1a85",
            "4cbcfe8d8f3248488a7c7b129e900c71",
            "611bfec32e7242e08524440da58da78d",
            "e8d40ce975b648789f7a5c0a06b8284a",
            "104aebd7d2b540b78b5db026699f3eb0",
            "feb8ffeafab842d282b6b6f8ba7b614a",
            "5fae3de4d5044d39974674604ca6d256",
            "5f521ba3723e4624bd394e8126b74513",
            "824782af31284f0795809b951538a3c2",
            "4a1ef496b0514842b0bece34e1375045",
            "21eab6490a2e4f59b2fa9aa2ef16ad97",
            "e46b19d949c3467ca05dd9ec1038825d"
          ]
        },
        "id": "AXEK4cgUp8tN",
        "outputId": "437d8999-c5e2-4cd8-994d-c575daee48ea"
      },
      "outputs": [
        {
          "data": {
            "application/vnd.jupyter.widget-view+json": {
              "model_id": "f7826687f7db4812991a282dcb235d39",
              "version_major": 2,
              "version_minor": 0
            },
            "text/plain": [
              "tokenizer_config.json:   0%|          | 0.00/564 [00:00<?, ?B/s]"
            ]
          },
          "metadata": {},
          "output_type": "display_data"
        },
        {
          "data": {
            "application/vnd.jupyter.widget-view+json": {
              "model_id": "68d771b0b22e431189a0e41fe36fa3d3",
              "version_major": 2,
              "version_minor": 0
            },
            "text/plain": [
              "sentencepiece.bpe.model:   0%|          | 0.00/4.85M [00:00<?, ?B/s]"
            ]
          },
          "metadata": {},
          "output_type": "display_data"
        },
        {
          "data": {
            "application/vnd.jupyter.widget-view+json": {
              "model_id": "ad5425bd04ad4bb1934a16293a939c9b",
              "version_major": 2,
              "version_minor": 0
            },
            "text/plain": [
              "tokenizer.json:   0%|          | 0.00/17.3M [00:00<?, ?B/s]"
            ]
          },
          "metadata": {},
          "output_type": "display_data"
        },
        {
          "data": {
            "application/vnd.jupyter.widget-view+json": {
              "model_id": "4cbcfe8d8f3248488a7c7b129e900c71",
              "version_major": 2,
              "version_minor": 0
            },
            "text/plain": [
              "special_tokens_map.json:   0%|          | 0.00/3.55k [00:00<?, ?B/s]"
            ]
          },
          "metadata": {},
          "output_type": "display_data"
        }
      ],
      "source": [
        "model_checkpoint = \"facebook/nllb-200-distilled-600M\"\n",
        "tokenizer = AutoTokenizer.from_pretrained(model_checkpoint)\n",
        "tokenizer.padding_side = \"right\" #  proper for attention mask alignment and decoder positioning for encoder-decoder model like NLLB"
      ]
    },
    {
      "cell_type": "markdown",
      "metadata": {
        "id": "emM8wGTBp8p6"
      },
      "source": [
        "### **Preprocess**"
      ]
    },
    {
      "cell_type": "code",
      "execution_count": null,
      "metadata": {
        "id": "a1vp_iykp8K9"
      },
      "outputs": [],
      "source": [
        "opus_dataset = opus_en_zu_clean\n",
        "\n",
        "# Isolate data splits\n",
        "train_dataset = opus_dataset[\"train\"]\n",
        "val_dataset = opus_dataset[\"validation\"]\n",
        "test_dataset = opus_dataset[\"test\"]\n",
        "\n",
        "\n",
        "# Set the target language for NLLB tokenizer globally\n",
        "tokenizer.src_lang = \"eng_Latn\"\n",
        "tokenizer.tgt_lang = \"zul_Latn\"\n",
        "\n",
        "def preprocess(example):\n",
        "    source = example.get(\"translation\", {}).get(\"en\", None)\n",
        "    target = example.get(\"translation\", {}).get(\"zu\", None)\n",
        "\n",
        "    if not source or not target:\n",
        "        return {\n",
        "            \"input_ids\": [],\n",
        "            \"attention_mask\": [],\n",
        "            \"labels\": []\n",
        "            }\n",
        "\n",
        "    # Add source language prefix for NLLB-style\n",
        "    input_text = f\">>zul_Latn<< {source}\"\n",
        "\n",
        "    # Tokenize source and target using set lang codes\n",
        "    model_inputs = tokenizer(\n",
        "        input_text,\n",
        "        max_length=128,\n",
        "        padding=\"max_length\",\n",
        "        truncation=True,\n",
        "    )\n",
        "\n",
        "    # Target tokenization works correctly if tgt_lang is already set\n",
        "    target_inputs = tokenizer(\n",
        "        target,\n",
        "        max_length=128,\n",
        "        padding=\"max_length\",\n",
        "        truncation=True,\n",
        "    )\n",
        "\n",
        "    model_inputs[\"labels\"] = target_inputs[\"input_ids\"]\n",
        "    return model_inputs"
      ]
    },
    {
      "cell_type": "code",
      "execution_count": null,
      "metadata": {
        "colab": {
          "base_uri": "https://localhost:8080/",
          "height": 209,
          "referenced_widgets": [
            "46b9fd14a42542ccbaa331ed041769a9",
            "a5e639e904e145f0a0eac862b062cab9",
            "68a2335e35154830b1e861b98467571a",
            "f037bb44452c4d1d88e96fb21cbbb467",
            "5821656659c04ef0b32bdba853ce12ba",
            "2383613db1ba4cba97e2cbc713b181c9",
            "89b63b3df318472bbb711f54a40d684a",
            "4c065ae1cfcf420ca95015cfd9df5bc1",
            "1e7f7ba968eb441fb3bf0c309918ed1b",
            "fc079d3e5f0f492ba3d01c2e99bedf68",
            "f890bfa5819442ebb32ec90076d5f918",
            "368c865de8d04b4a96ddbe4dc149562e",
            "f5b021ff6de841c3a96168140865b262",
            "de1bea68ff3b4b7cb6f72a142a20d191",
            "c46116c26e3e4c11bf4f22e7d7b03f3f",
            "bf6df2bd209248628fcd359498f7b756",
            "b3f75267359a41bfae56ac738b878cb1",
            "bba49ba90580480a920c7fc806a7616b",
            "0d12bad235e14948a0e87b366bb152ff",
            "2fdcf287a4fd4397b2a2358468d55ae4",
            "cf167ce521ad417284336bfac5a411a7",
            "130e63ce907642bbb332860c70739cb2",
            "de4d5ff214d74f4c8995bc13d7a21ddb",
            "80379060fcfc441cbc9a7f4a094eb0ea",
            "d9502b3591fe4f6ca24298acafadbcc9",
            "33803f1dbb2e42ceadf850f37a460a53",
            "c918144d46ac48909781f0553f9ea33b",
            "17036cc9639e4fb18359b78927ebe065",
            "c138c778ede6429797285d32f3948096",
            "8c9792d6f78041feb5c80bc0dfdf12a5",
            "57d82d0106594f418637e35a6911756b",
            "16e9a063228a431f9fce6e2e292b92ef",
            "4ec54b8fa08c47929dbff6022d257520",
            "d7d0a70b0842430889fdf4f19a7fc4f7",
            "1c7a82b149564ea18b554288646c6e82",
            "db83266b59914601ac173b1d550b15c0",
            "440b5a18bd4d475da6c8e75074e931a9",
            "21f59ef3a4e64d9ea90fb146fb9b6f44",
            "cf534e30660a49558c9646da16a315c2",
            "dee598640a574e158ce8dd950f353407",
            "940010e188094ad7b3330b48cc357ef1",
            "c5c92e66263147d0af8100d499079c50",
            "be5422a2bb15417ea6f4c783acd652d0",
            "541d89dbabb44ed9ad07ab63a50da048",
            "6ec60f4e073c4d01a1285a141db06022",
            "8d67a703c1f64e6783a541f2cdb13920",
            "697732b2d356405da2d61c87c6e0403d",
            "2797fe8e7c5f4e999dbd9f01bdadcea1",
            "39c2ad6c1ade408f9c163d47268f9f64",
            "573da3b03fcd44f58cb2cca383732bd9",
            "8ec0746f6f1f46a3bb7bfea67457a4fc",
            "f3f2af268d424bda9b341dca12c5653d",
            "fc15aabbc5d7451d94101af59254e1d5",
            "9d63f036aaa9401fa2744cbc3db2b597",
            "060fe0b2b34f4e8aba6be024ae86eeed",
            "d47abf6b9ee74ce5a489c18a546f94a2",
            "917f1b8d76d64bf6aca93be0c4850830",
            "764d9601745744908f0b37eac184273c",
            "d51d3bf192504e73b4b42af1d03649e6",
            "66892e8417ce4d2c845a52293a75b22c",
            "c28cd1b8ea4d49cf87fe5933c63dbf88",
            "531201ce29744da09b05f362f8ad13e8",
            "86b6ca860adb4da2b89e19d03a52d786",
            "198f7dc900d74e5bab4da562057f3eb1",
            "273b79947d2d4a86a0e344bd056fe380",
            "60b7e83bc8b248329df798a2022182ef"
          ]
        },
        "id": "rlpgDiFBXhcp",
        "outputId": "cb7a0a19-24c1-47a6-b7e8-501f633d403a"
      },
      "outputs": [
        {
          "data": {
            "application/vnd.jupyter.widget-view+json": {
              "model_id": "46b9fd14a42542ccbaa331ed041769a9",
              "version_major": 2,
              "version_minor": 0
            },
            "text/plain": [
              "Tokenizing train set (num_proc=4):   0%|          | 0/38616 [00:00<?, ? examples/s]"
            ]
          },
          "metadata": {},
          "output_type": "display_data"
        },
        {
          "data": {
            "application/vnd.jupyter.widget-view+json": {
              "model_id": "368c865de8d04b4a96ddbe4dc149562e",
              "version_major": 2,
              "version_minor": 0
            },
            "text/plain": [
              "Filter:   0%|          | 0/38616 [00:00<?, ? examples/s]"
            ]
          },
          "metadata": {},
          "output_type": "display_data"
        },
        {
          "data": {
            "application/vnd.jupyter.widget-view+json": {
              "model_id": "de4d5ff214d74f4c8995bc13d7a21ddb",
              "version_major": 2,
              "version_minor": 0
            },
            "text/plain": [
              "Tokenizing val set (num_proc=4):   0%|          | 0/2000 [00:00<?, ? examples/s]"
            ]
          },
          "metadata": {},
          "output_type": "display_data"
        },
        {
          "data": {
            "application/vnd.jupyter.widget-view+json": {
              "model_id": "d7d0a70b0842430889fdf4f19a7fc4f7",
              "version_major": 2,
              "version_minor": 0
            },
            "text/plain": [
              "Filter:   0%|          | 0/2000 [00:00<?, ? examples/s]"
            ]
          },
          "metadata": {},
          "output_type": "display_data"
        },
        {
          "data": {
            "application/vnd.jupyter.widget-view+json": {
              "model_id": "6ec60f4e073c4d01a1285a141db06022",
              "version_major": 2,
              "version_minor": 0
            },
            "text/plain": [
              "Tokenizing test set (num_proc=4):   0%|          | 0/2000 [00:00<?, ? examples/s]"
            ]
          },
          "metadata": {},
          "output_type": "display_data"
        },
        {
          "data": {
            "application/vnd.jupyter.widget-view+json": {
              "model_id": "d47abf6b9ee74ce5a489c18a546f94a2",
              "version_major": 2,
              "version_minor": 0
            },
            "text/plain": [
              "Filter:   0%|          | 0/2000 [00:00<?, ? examples/s]"
            ]
          },
          "metadata": {},
          "output_type": "display_data"
        }
      ],
      "source": [
        "# Map Preprocessing on all splits\n",
        "\n",
        "train_tokenized = train_dataset.map(\n",
        "    preprocess,\n",
        "    remove_columns=[\"translation\"],\n",
        "    num_proc=4,  # Optional: use multiple processes\n",
        "    desc=\"Tokenizing train set\"\n",
        ").filter(lambda example: example.get(\"labels\") is not None)\n",
        "\n",
        "val_tokenized = val_dataset.map(\n",
        "    preprocess,\n",
        "    remove_columns=[\"translation\"],\n",
        "    num_proc=4,\n",
        "    desc=\"Tokenizing val set\"\n",
        ").filter(lambda example: example.get(\"labels\") is not None)\n",
        "\n",
        "test_tokenized = test_dataset.map(\n",
        "    preprocess,\n",
        "    remove_columns=[\"translation\"],\n",
        "    num_proc=4,\n",
        "    desc=\"Tokenizing test set\"\n",
        ").filter(lambda example: example.get(\"labels\") is not None)"
      ]
    },
    {
      "cell_type": "code",
      "execution_count": null,
      "metadata": {
        "colab": {
          "base_uri": "https://localhost:8080/"
        },
        "id": "7MSZL1Txp7_R",
        "outputId": "2539bead-404e-4465-f7a7-c5f23c97abff"
      },
      "outputs": [
        {
          "name": "stdout",
          "output_type": "stream",
          "text": [
            "{'input_ids': [256047, 20545, 256066, 57642, 130176, 452, 349, 38866, 67, 151945, 202, 11007, 3203, 349, 151945, 23744, 351, 32779, 248, 38866, 67, 248075, 2, 1, 1, 1, 1, 1, 1, 1, 1, 1, 1, 1, 1, 1, 1, 1, 1, 1, 1, 1, 1, 1, 1, 1, 1, 1, 1, 1, 1, 1, 1, 1, 1, 1, 1, 1, 1, 1, 1, 1, 1, 1, 1, 1, 1, 1, 1, 1, 1, 1, 1, 1, 1, 1, 1, 1, 1, 1, 1, 1, 1, 1, 1, 1, 1, 1, 1, 1, 1, 1, 1, 1, 1, 1, 1, 1, 1, 1, 1, 1, 1, 1, 1, 1, 1, 1, 1, 1, 1, 1, 1, 1, 1, 1, 1, 1, 1, 1, 1, 1, 1, 1, 1, 1, 1, 1], 'attention_mask': [1, 1, 1, 1, 1, 1, 1, 1, 1, 1, 1, 1, 1, 1, 1, 1, 1, 1, 1, 1, 1, 1, 1, 0, 0, 0, 0, 0, 0, 0, 0, 0, 0, 0, 0, 0, 0, 0, 0, 0, 0, 0, 0, 0, 0, 0, 0, 0, 0, 0, 0, 0, 0, 0, 0, 0, 0, 0, 0, 0, 0, 0, 0, 0, 0, 0, 0, 0, 0, 0, 0, 0, 0, 0, 0, 0, 0, 0, 0, 0, 0, 0, 0, 0, 0, 0, 0, 0, 0, 0, 0, 0, 0, 0, 0, 0, 0, 0, 0, 0, 0, 0, 0, 0, 0, 0, 0, 0, 0, 0, 0, 0, 0, 0, 0, 0, 0, 0, 0, 0, 0, 0, 0, 0, 0, 0, 0, 0], 'labels': [256047, 86608, 134363, 104165, 27581, 3648, 3019, 76931, 27581, 3648, 72911, 155003, 953, 248105, 233103, 67, 248075, 2, 1, 1, 1, 1, 1, 1, 1, 1, 1, 1, 1, 1, 1, 1, 1, 1, 1, 1, 1, 1, 1, 1, 1, 1, 1, 1, 1, 1, 1, 1, 1, 1, 1, 1, 1, 1, 1, 1, 1, 1, 1, 1, 1, 1, 1, 1, 1, 1, 1, 1, 1, 1, 1, 1, 1, 1, 1, 1, 1, 1, 1, 1, 1, 1, 1, 1, 1, 1, 1, 1, 1, 1, 1, 1, 1, 1, 1, 1, 1, 1, 1, 1, 1, 1, 1, 1, 1, 1, 1, 1, 1, 1, 1, 1, 1, 1, 1, 1, 1, 1, 1, 1, 1, 1, 1, 1, 1, 1, 1, 1]}\n"
          ]
        }
      ],
      "source": [
        "# Check a sample from tokenized data to confirm tokenization\n",
        "print(train_tokenized[0])"
      ]
    },
    {
      "cell_type": "code",
      "execution_count": null,
      "metadata": {
        "colab": {
          "base_uri": "https://localhost:8080/",
          "height": 53
        },
        "id": "LcPpKA-Op78N",
        "outputId": "ee00a1d6-bf8b-44c4-f176-1a0bf9f65c19"
      },
      "outputs": [
        {
          "data": {
            "application/vnd.google.colaboratory.intrinsic+json": {
              "type": "string"
            },
            "text/plain": [
              "\"\\n{\\n  'input_ids': [...],\\n  'attention_mask': [...],\\n  'labels': [...]\\n}\\n\\n\""
            ]
          },
          "execution_count": 33,
          "metadata": {},
          "output_type": "execute_result"
        }
      ],
      "source": [
        "# The strcture above is interpreted as:\n",
        "\n",
        "\"\"\"\n",
        "{\n",
        "  'input_ids': [...],\n",
        "  'attention_mask': [...],\n",
        "  'labels': [...]\n",
        "}\n",
        "\n",
        "\"\"\""
      ]
    },
    {
      "cell_type": "code",
      "execution_count": null,
      "metadata": {
        "colab": {
          "base_uri": "https://localhost:8080/"
        },
        "id": "wSS3vb437RVL",
        "outputId": "e952bf4b-697c-4021-cd9f-32dfb6295ba1"
      },
      "outputs": [
        {
          "name": "stdout",
          "output_type": "stream",
          "text": [
            "Dataset({\n",
            "    features: ['input_ids', 'attention_mask', 'labels'],\n",
            "    num_rows: 38616\n",
            "})\n"
          ]
        }
      ],
      "source": [
        "print(train_tokenized)"
      ]
    },
    {
      "cell_type": "markdown",
      "metadata": {
        "id": "fM2dqks9p7zG"
      },
      "source": [
        "## **Fine-Tune NLLB**"
      ]
    },
    {
      "cell_type": "markdown",
      "metadata": {
        "id": "HHFNAuXBp7wZ"
      },
      "source": [
        "### **Configure BitsAndBytes**"
      ]
    },
    {
      "cell_type": "code",
      "execution_count": null,
      "metadata": {
        "id": "NRktXaopp7tQ"
      },
      "outputs": [],
      "source": [
        "# BitsAndBytes parameters\n",
        "################################################################################\n",
        "use_4bit = True # 4-bit precision on base model loading\n",
        "bnb_4bit_compute_dtype = torch.float16 # compute datatype for 4-bit base model\n",
        "bnb_4bit_quant_type = \"nf4\" # quantization type\n",
        "use_nested_quant = False # activate nested quantization for 4-bit base models (double quantization)\n",
        "\n",
        "\n",
        "bnb_config = BitsAndBytesConfig(\n",
        "    load_in_4bit=use_4bit,\n",
        "    bnb_4bit_quant_type=bnb_4bit_quant_type,\n",
        "    bnb_4bit_compute_dtype=bnb_4bit_compute_dtype,\n",
        "    bnb_4bit_use_double_quant=use_nested_quant,\n",
        ")"
      ]
    },
    {
      "cell_type": "code",
      "execution_count": null,
      "metadata": {
        "colab": {
          "base_uri": "https://localhost:8080/",
          "height": 145,
          "referenced_widgets": [
            "7a86e7aeb50e47ea8bade7245f35198c",
            "1f8ec47fafe74c60aa43d81faef6c886",
            "dc3d8db87bdd4ab4940591938e377ffb",
            "e9107c0a0225401eab7b219e95b350ed",
            "bad90c4d6ef94eb79da3eb96bf113ff9",
            "c34dcd85c4314f5a96dc390c67852dd7",
            "15b69255519b4b54a9af2bc425816c77",
            "dd2224e5bc864a26989b76386eb23f2c",
            "a08b1d9892e24fea9c31dca44fac891c",
            "4a024851300141b6892bb5a21ed6b1d8",
            "0e081af776824a3bb0c585296e0a04b8",
            "7a4eb16764554cd6bc9f33379511489d",
            "24f8effdcdf04f1f8571c608a122a6bd",
            "f2bdb927e8a248928619e2ad989aa092",
            "e1d90065715742fc9e644ad8759d10d6",
            "2fd67141b55c4f0dab77f2169e905f53",
            "8a2005a549eb4a15944f957ba5eb5cc4",
            "e36f373df75648049f11a5c6ebf4f196",
            "67ca957cf56f4c30b98be0f329a486d5",
            "f3a92e6daf7040b3ad541f5be1046312",
            "27ea209191394b60ad6552e73483ca6b",
            "992926108ab34aaa91cedcfad1dbf74f",
            "0def3037b38245fe81a7ff5ea9265d6a",
            "e9008154e21347aaa1a29f4ddea8e1a6",
            "688e6ae9a4bd4fb18192cbd571b5f50b",
            "48e3bf41c7ab4c8e818c1b4465dbc395",
            "6f43b3bad8c54375b551c737ae7ba5a8",
            "5d56896161564ca4a93398f4f8748586",
            "0975af6e0ea34969804af75c8ea5841d",
            "96d6495495854f13867189825b724fd7",
            "6cd9ebd8cc61421a86b81224b8166e0e",
            "78022d18384f438199de88549c1c9bd8",
            "00a5c8d9b2df4b72b9126cf88e88db06",
            "4e355a63ba964f85be7caa7cfc08a1f7",
            "4e11e1c22e08411aad7d9d564ef76c85",
            "3ffdd21c54384d7b81f0f9e5a4623cce",
            "711e585480fa4676894a2c0ef980ecdd",
            "241674a0d3234486b92a1c0b7ff8a014",
            "2cdad7fbdfc643619490e48d218737d9",
            "7a55e15b619c4d31b529947ff0c78586",
            "2d8b2b21dd06470395d4de6fcccccdd7",
            "6bd1f656395c454bafaa3352f43c2168",
            "c9e780aaea6d42a29ea025559f85d09b",
            "df07c238dca9418bb7d906a04ac49ec6"
          ]
        },
        "id": "Je9N6UmhsCAA",
        "outputId": "c1ae2ebf-496a-423a-f22d-1b00ca2e0331"
      },
      "outputs": [
        {
          "data": {
            "application/vnd.jupyter.widget-view+json": {
              "model_id": "7a86e7aeb50e47ea8bade7245f35198c",
              "version_major": 2,
              "version_minor": 0
            },
            "text/plain": [
              "config.json:   0%|          | 0.00/846 [00:00<?, ?B/s]"
            ]
          },
          "metadata": {},
          "output_type": "display_data"
        },
        {
          "data": {
            "application/vnd.jupyter.widget-view+json": {
              "model_id": "7a4eb16764554cd6bc9f33379511489d",
              "version_major": 2,
              "version_minor": 0
            },
            "text/plain": [
              "pytorch_model.bin:   0%|          | 0.00/2.46G [00:00<?, ?B/s]"
            ]
          },
          "metadata": {},
          "output_type": "display_data"
        },
        {
          "data": {
            "application/vnd.jupyter.widget-view+json": {
              "model_id": "0def3037b38245fe81a7ff5ea9265d6a",
              "version_major": 2,
              "version_minor": 0
            },
            "text/plain": [
              "model.safetensors:   0%|          | 0.00/2.46G [00:00<?, ?B/s]"
            ]
          },
          "metadata": {},
          "output_type": "display_data"
        },
        {
          "data": {
            "application/vnd.jupyter.widget-view+json": {
              "model_id": "4e355a63ba964f85be7caa7cfc08a1f7",
              "version_major": 2,
              "version_minor": 0
            },
            "text/plain": [
              "generation_config.json:   0%|          | 0.00/189 [00:00<?, ?B/s]"
            ]
          },
          "metadata": {},
          "output_type": "display_data"
        }
      ],
      "source": [
        "model = AutoModelForSeq2SeqLM.from_pretrained(model_checkpoint,\n",
        "                                              device_map=\"auto\",\n",
        "                                              low_cpu_mem_usage=True,  # Explicitly set to avoid the warning\n",
        "                                              quantization_config=bnb_config)"
      ]
    },
    {
      "cell_type": "markdown",
      "metadata": {
        "id": "-S4n34njN6AF"
      },
      "source": [
        "### **Test Model with Zero Shot Inferencing**"
      ]
    },
    {
      "cell_type": "code",
      "execution_count": null,
      "metadata": {
        "colab": {
          "base_uri": "https://localhost:8080/"
        },
        "id": "jhElREp_N5f8",
        "outputId": "30826e9a-f886-41eb-8540-42d4ac4c61a6"
      },
      "outputs": [
        {
          "name": "stdout",
          "output_type": "stream",
          "text": [
            "🔤 English: The weather today is very pleasant.\n",
            "🌍 Hausa: Isimo sezulu namuhla sihle kakhulu.\n",
            "CPU times: user 627 ms, sys: 165 ms, total: 792 ms\n",
            "Wall time: 1.59 s\n"
          ]
        }
      ],
      "source": [
        "%%time\n",
        "\n",
        "# 🌍 Define source & target languages (ISO 639-3 codes)\n",
        "src_lang = \"eng_Latn\"\n",
        "tgt_lang = \"zul_Latn\"\n",
        "\n",
        "# ✏️ Example input sentence in English\n",
        "input_sentence = \"The weather today is very pleasant.\"\n",
        "\n",
        "# 🔡 Tokenize with language codes\n",
        "inputs = tokenizer(\n",
        "    input_sentence,\n",
        "    return_tensors=\"pt\",\n",
        "    padding=True,\n",
        "    truncation=True,\n",
        "    max_length=512\n",
        ")\n",
        "inputs = {k: v.to(model.device) for k, v in inputs.items()}\n",
        "\n",
        "# ✨ Set language tokens\n",
        "inputs[\"forced_bos_token_id\"] = tokenizer.convert_tokens_to_ids(tgt_lang)\n",
        "tokenizer.src_lang = src_lang\n",
        "\n",
        "# 🔁 Run inference\n",
        "with torch.no_grad():\n",
        "    output_tokens = model.generate(\n",
        "        **inputs,\n",
        "        max_length=128,\n",
        "        num_beams=4,\n",
        "        early_stopping=True\n",
        "    )\n",
        "\n",
        "# 🗣️ Decode result\n",
        "translated_text = tokenizer.batch_decode(output_tokens, skip_special_tokens=True)[0]\n",
        "print(f\"🔤 English: {input_sentence}\")\n",
        "print(f\"🌍 Zulu: {translated_text}\")"
      ]
    },
    {
      "cell_type": "markdown",
      "metadata": {
        "id": "D_ByOm0WsB95"
      },
      "source": [
        "### **Setup Model with LoRA (PEFT**"
      ]
    },
    {
      "cell_type": "code",
      "execution_count": null,
      "metadata": {
        "id": "rFqF8EjfsB7k"
      },
      "outputs": [],
      "source": [
        "# Set up LoRA config with target_modules\n",
        "lora_config = LoraConfig(\n",
        "    r = 8,  # Rank of the decomposition\n",
        "    lora_alpha = 32,  # Scaling factor for LoRA updates\n",
        "    lora_dropout = 0.05,  # Dropout rate for LoRA\n",
        "    task_type = TaskType.SEQ_2_SEQ_LM,  # Sequence-to-sequence task\n",
        "    bias = 'none',\n",
        "    target_modules = [\"q_proj\", \"v_proj\", \"k_proj\", \"o_proj\"],  # Attention layers (query, value, key, output)\n",
        ")\n",
        "\n",
        "# Apply LoRA adapters to the model\n",
        "model_with_lora = get_peft_model(model, lora_config)"
      ]
    },
    {
      "cell_type": "code",
      "execution_count": null,
      "metadata": {
        "colab": {
          "base_uri": "https://localhost:8080/"
        },
        "id": "6wrLctjFsB5V",
        "outputId": "f451e2bb-dd48-42cf-959a-20074d3ea8a4"
      },
      "outputs": [
        {
          "name": "stdout",
          "output_type": "stream",
          "text": [
            "trainable params: 1,769,472 || all params: 616,843,264 || trainable%: 0.2869\n"
          ]
        }
      ],
      "source": [
        "# Check trainable parameters\n",
        "model_with_lora.print_trainable_parameters()"
      ]
    },
    {
      "cell_type": "markdown",
      "metadata": {
        "id": "iYBKR9rJsB2B"
      },
      "source": [
        "### **Prepare DataCollator**"
      ]
    },
    {
      "cell_type": "code",
      "execution_count": null,
      "metadata": {
        "id": "S7fgOW3EsBzf"
      },
      "outputs": [],
      "source": [
        "# Instantiate the data collator for sequence-to-sequence tasks\n",
        "data_collator = DataCollatorForSeq2Seq(tokenizer,\n",
        "                                       model = model_with_lora,\n",
        "                                       padding = True)"
      ]
    },
    {
      "cell_type": "markdown",
      "metadata": {
        "id": "t2Ps9qrwsBx0"
      },
      "source": [
        "### **Define Seq2SeqTrainingArguments**"
      ]
    },
    {
      "cell_type": "code",
      "execution_count": null,
      "metadata": {
        "id": "DEdtHMzusBvZ"
      },
      "outputs": [],
      "source": [
        "# Training arguments\n",
        "\n",
        "training_args = Seq2SeqTrainingArguments(\n",
        "    eval_strategy = \"epoch\",  # Evaluate after every epoch\n",
        "    logging_dir = f\"{save_dir}/logs\",  # Directory for storing logs\n",
        "    logging_strategy = \"steps\",  # Log every N steps\n",
        "    logging_steps = 25,  # Log every 25 steps\n",
        "    save_strategy = \"epoch\",  # Save model after every epoch\n",
        "    save_total_limit = 3,  # Keep only the latest 3 checkpoints\n",
        "    per_device_train_batch_size = 4,  # Batch size per device for training\n",
        "    per_device_eval_batch_size = 4,  # Batch size per device for evaluation\n",
        "    gradient_accumulation_steps = 2,  # Accumulate gradients for 2 steps before updating weights\n",
        "    num_train_epochs = 1,  # Total number of epochs\n",
        "    predict_with_generate = True,  # Predict with generate\n",
        "    weight_decay = 0.01,  # Weight decay\n",
        "    lr_scheduler_type = \"linear\",  # Linear learning rate scheduler\n",
        "    optim = \"paged_adamw_32bit\",  # Optimizer to use\n",
        "    learning_rate = 2e-5,  # Initial learning rate\n",
        "    eval_steps = 500, # run validation every 500 steps\n",
        "    fp16 = True,  # Use mixed precision training (not recommended for faster training on GPUs, especially A100 GPUs)\n",
        "    load_best_model_at_end = True,  # Load the best model at the end based on evaluation metric\n",
        "    metric_for_best_model = \"eval_loss\",  # Metric to monitor for the best model (e.g., BLEU score for translation)\n",
        "    greater_is_better = False,  # Higher BLEU metric scores are better\n",
        "    report_to = \"none\",  # Use TensorBoard for logging\n",
        "    disable_tqdm = False,  # Enable or disable tqdm (progress bar)\n",
        "    save_steps = 500,  # Save model checkpoints every 500 steps\n",
        "    label_names = [\"labels\"],  # Name of the label column in the dataset\n",
        "  )\n"
      ]
    },
    {
      "cell_type": "markdown",
      "metadata": {
        "id": "Q7IOQD149N4S"
      },
      "source": [
        "### **Compute Metrics**"
      ]
    },
    {
      "cell_type": "code",
      "execution_count": null,
      "metadata": {
        "id": "uzYXaeC49N0m"
      },
      "outputs": [],
      "source": [
        "# metric = evaluate.load(\"sacrebleu\")\n",
        "\n",
        "# def compute_metrics(eval_preds):\n",
        "#     preds, labels = eval_preds\n",
        "#     decoded_preds = tokenizer.batch_decode(preds, skip_special_tokens=True)\n",
        "#     decoded_labels = tokenizer.batch_decode(labels, skip_special_tokens=True)\n",
        "#     result = metric.compute(predictions=decoded_preds, references=[[l] for l in decoded_labels])\n",
        "#     return {\"bleu\": result[\"score\"]}\n"
      ]
    },
    {
      "cell_type": "markdown",
      "metadata": {
        "id": "ZC7Kcd3e9NyL"
      },
      "source": [
        "### **Training Setup**"
      ]
    },
    {
      "cell_type": "code",
      "execution_count": null,
      "metadata": {
        "id": "0oR-8S_C9Nte"
      },
      "outputs": [],
      "source": [
        "trainer = Seq2SeqTrainer(\n",
        "    model=model_with_lora,\n",
        "    args=training_args,\n",
        "    train_dataset=train_tokenized,\n",
        "    eval_dataset=val_tokenized.select(range(min(len(val_tokenized), 2000))),\n",
        "    data_collator=data_collator,\n",
        "    #compute_metrics=compute_metrics  # compute BLEU\n",
        ")"
      ]
    },
    {
      "cell_type": "markdown",
      "metadata": {
        "id": "TW_SqH4u9Nru"
      },
      "source": [
        "### **Train**"
      ]
    },
    {
      "cell_type": "code",
      "execution_count": null,
      "metadata": {
        "colab": {
          "base_uri": "https://localhost:8080/",
          "height": 159
        },
        "id": "34MRpJpr9NhC",
        "outputId": "96d6f56e-40ae-4567-a7b9-e92544c1b3b5"
      },
      "outputs": [
        {
          "name": "stdout",
          "output_type": "stream",
          "text": [
            "Training starts at 1747771469.1863263\n"
          ]
        },
        {
          "data": {
            "text/html": [
              "\n",
              "    <div>\n",
              "      \n",
              "      <progress value='4827' max='4827' style='width:300px; height:20px; vertical-align: middle;'></progress>\n",
              "      [4827/4827 38:57, Epoch 1/1]\n",
              "    </div>\n",
              "    <table border=\"1\" class=\"dataframe\">\n",
              "  <thead>\n",
              " <tr style=\"text-align: left;\">\n",
              "      <th>Epoch</th>\n",
              "      <th>Training Loss</th>\n",
              "      <th>Validation Loss</th>\n",
              "    </tr>\n",
              "  </thead>\n",
              "  <tbody>\n",
              "    <tr>\n",
              "      <td>1</td>\n",
              "      <td>7.283900</td>\n",
              "      <td>7.205529</td>\n",
              "    </tr>\n",
              "  </tbody>\n",
              "</table><p>"
            ],
            "text/plain": [
              "<IPython.core.display.HTML object>"
            ]
          },
          "metadata": {},
          "output_type": "display_data"
        },
        {
          "name": "stdout",
          "output_type": "stream",
          "text": [
            "Training ends at 1747773807.29905\n",
            "Training time: 0h 38m 58s\n"
          ]
        }
      ],
      "source": [
        "# Compute total training time\n",
        "start_time = time.time()\n",
        "print(f\"Training starts at {start_time}\")\n",
        "\n",
        "trainer.train()\n",
        "\n",
        "end_time = time.time()\n",
        "print(f\"Training ends at {end_time}\")\n",
        "\n",
        "total_seconds = end_time - start_time\n",
        "hours = int(total_seconds // 3600)\n",
        "minutes = int((total_seconds % 3600) // 60)\n",
        "seconds = int(total_seconds % 60)\n",
        "\n",
        "print(f\"Training time: {hours}h {minutes}m {seconds}s\")"
      ]
    },
    {
      "cell_type": "markdown",
      "metadata": {
        "id": "60KJ7ufX9NfX"
      },
      "source": [
        "## **Save Model and Tokenizer**"
      ]
    },
    {
      "cell_type": "code",
      "execution_count": null,
      "metadata": {
        "colab": {
          "base_uri": "https://localhost:8080/"
        },
        "id": "d-D2ibw39Ndx",
        "outputId": "75829de2-5df0-4944-c509-31e12dbc55b7"
      },
      "outputs": [
        {
          "data": {
            "text/plain": [
              "('/content/drive/MyDrive/Colab Notebooks/NLLB_200/En-Zu_LaTn/En-Zu_FT_model/tokenizer_config.json',\n",
              " '/content/drive/MyDrive/Colab Notebooks/NLLB_200/En-Zu_LaTn/En-Zu_FT_model/special_tokens_map.json',\n",
              " '/content/drive/MyDrive/Colab Notebooks/NLLB_200/En-Zu_LaTn/En-Zu_FT_model/sentencepiece.bpe.model',\n",
              " '/content/drive/MyDrive/Colab Notebooks/NLLB_200/En-Zu_LaTn/En-Zu_FT_model/added_tokens.json',\n",
              " '/content/drive/MyDrive/Colab Notebooks/NLLB_200/En-Zu_LaTn/En-Zu_FT_model/tokenizer.json')"
            ]
          },
          "execution_count": 54,
          "metadata": {},
          "output_type": "execute_result"
        }
      ],
      "source": [
        "trainer.save_model(f\"{save_dir}/En-Zu_FT_model\")\n",
        "tokenizer.save_pretrained(f\"{save_dir}/En-Zu_FT_model\")"
      ]
    },
    {
      "cell_type": "markdown",
      "metadata": {
        "id": "zrz9Z-8SHlUY"
      },
      "source": [
        "## **Push to Hugging Face**"
      ]
    },
    {
      "cell_type": "code",
      "execution_count": null,
      "metadata": {
        "colab": {
          "base_uri": "https://localhost:8080/"
        },
        "id": "b2x6BfgWHlQE",
        "outputId": "ed32dd80-53fa-4fa2-fc60-92798ea6c4d2"
      },
      "outputs": [
        {
          "name": "stdout",
          "output_type": "stream",
          "text": [
            "Requirement already satisfied: huggingface_hub in /usr/local/lib/python3.11/dist-packages (0.31.2)\n",
            "Requirement already satisfied: filelock in /usr/local/lib/python3.11/dist-packages (from huggingface_hub) (3.18.0)\n",
            "Requirement already satisfied: fsspec>=2023.5.0 in /usr/local/lib/python3.11/dist-packages (from huggingface_hub) (2025.3.0)\n",
            "Requirement already satisfied: packaging>=20.9 in /usr/local/lib/python3.11/dist-packages (from huggingface_hub) (24.2)\n",
            "Requirement already satisfied: pyyaml>=5.1 in /usr/local/lib/python3.11/dist-packages (from huggingface_hub) (6.0.2)\n",
            "Requirement already satisfied: requests in /usr/local/lib/python3.11/dist-packages (from huggingface_hub) (2.32.3)\n",
            "Requirement already satisfied: tqdm>=4.42.1 in /usr/local/lib/python3.11/dist-packages (from huggingface_hub) (4.67.1)\n",
            "Requirement already satisfied: typing-extensions>=3.7.4.3 in /usr/local/lib/python3.11/dist-packages (from huggingface_hub) (4.13.2)\n",
            "Requirement already satisfied: charset-normalizer<4,>=2 in /usr/local/lib/python3.11/dist-packages (from requests->huggingface_hub) (3.4.2)\n",
            "Requirement already satisfied: idna<4,>=2.5 in /usr/local/lib/python3.11/dist-packages (from requests->huggingface_hub) (3.10)\n",
            "Requirement already satisfied: urllib3<3,>=1.21.1 in /usr/local/lib/python3.11/dist-packages (from requests->huggingface_hub) (2.4.0)\n",
            "Requirement already satisfied: certifi>=2017.4.17 in /usr/local/lib/python3.11/dist-packages (from requests->huggingface_hub) (2025.4.26)\n"
          ]
        }
      ],
      "source": [
        "!pip install huggingface_hub"
      ]
    },
    {
      "cell_type": "code",
      "execution_count": null,
      "metadata": {
        "colab": {
          "base_uri": "https://localhost:8080/"
        },
        "id": "yp8l1bHIHmMW",
        "outputId": "d836cef5-1168-4171-9108-141ad29c27b5"
      },
      "outputs": [
        {
          "name": "stdout",
          "output_type": "stream",
          "text": [
            "\n",
            "    _|    _|  _|    _|    _|_|_|    _|_|_|  _|_|_|  _|      _|    _|_|_|      _|_|_|_|    _|_|      _|_|_|  _|_|_|_|\n",
            "    _|    _|  _|    _|  _|        _|          _|    _|_|    _|  _|            _|        _|    _|  _|        _|\n",
            "    _|_|_|_|  _|    _|  _|  _|_|  _|  _|_|    _|    _|  _|  _|  _|  _|_|      _|_|_|    _|_|_|_|  _|        _|_|_|\n",
            "    _|    _|  _|    _|  _|    _|  _|    _|    _|    _|    _|_|  _|    _|      _|        _|    _|  _|        _|\n",
            "    _|    _|    _|_|      _|_|_|    _|_|_|  _|_|_|  _|      _|    _|_|_|      _|        _|    _|    _|_|_|  _|_|_|_|\n",
            "\n",
            "    A token is already saved on your machine. Run `huggingface-cli whoami` to get more information or `huggingface-cli logout` if you want to log out.\n",
            "    Setting a new token will erase the existing one.\n",
            "    To log in, `huggingface_hub` requires a token generated from https://huggingface.co/settings/tokens .\n",
            "Enter your token (input will not be visible): \n",
            "Add token as git credential? (Y/n) Y\n",
            "Token is valid (permission: write).\n",
            "The token `DibiaCorp` has been saved to /root/.cache/huggingface/stored_tokens\n",
            "\u001b[1m\u001b[31mCannot authenticate through git-credential as no helper is defined on your machine.\n",
            "You might have to re-authenticate when pushing to the Hugging Face Hub.\n",
            "Run the following command in your terminal in case you want to set the 'store' credential helper as default.\n",
            "\n",
            "git config --global credential.helper store\n",
            "\n",
            "Read https://git-scm.com/book/en/v2/Git-Tools-Credential-Storage for more details.\u001b[0m\n",
            "Token has not been saved to git credential helper.\n",
            "Your token has been saved to /root/.cache/huggingface/token\n",
            "Login successful.\n",
            "The current active token is: `DibiaCorp`\n"
          ]
        }
      ],
      "source": [
        "!huggingface-cli login"
      ]
    },
    {
      "cell_type": "code",
      "execution_count": null,
      "metadata": {
        "colab": {
          "base_uri": "https://localhost:8080/",
          "height": 298,
          "referenced_widgets": [
            "577b94a217a54eb4838999a17ce04f8a",
            "51fef3fdc65d4eaab0f207ff8d31182c",
            "96698b17348b48ed91094a94ff19e218",
            "97bdd19a781541d59c4dc874309787c9",
            "db0533f7c9784e15acafde20f66fe366",
            "5bf92cf7e6bc4881a0436e1b08d7d500",
            "a0431503950a4176bb8c6aeb64c029f3",
            "cfd6488cd33846ea8ad5a3ab9c6f918f",
            "378edad7c3ea4eaa8f55908c4c111937",
            "37406665440e46cc9c5b86eed2aad4bf",
            "cde0b59d4d664c1abc576788d7499ddf",
            "e41f63e696614656bd4d96faaf7f70d4",
            "aa0086321e014c2180e529b7803ab738",
            "53a16ff7408a438d9177b385227f835c",
            "38b24042e0d141dea5819f7964f9a946",
            "fa56a0776b554e0e8e3ecef0686c96e8",
            "87fd300e26ee47f3a3424cdd3b38c249",
            "d3850e3ca51245dc92b04180b797fcdd",
            "5484319488614a92855cec08cee40ab8",
            "07566a73e90f4814890caa91e9f5f033",
            "745398d64697410383f93f7de2df162f",
            "67deaa4d8f6446f2a51689420619d2e5",
            "44cb0672bb9b4e3f8062e6be99f0de8b",
            "f724784d52e945d486c59f42046bdf03",
            "3da2fc25da33471d968f4d86fa71ee6a",
            "02e4862f40f647a699b84fabdaacfaa6",
            "180ecc070df340e3af1ceff1638990e3",
            "94088d580bf24d3b9efa9fd6c443e1fb",
            "0544c1c5394e487cbc84f798b47f9273",
            "5c0a39fed00e418cb12c0c41f84ec579",
            "4f7d4be30700491597860053f5a41ad0",
            "70e66af010704096b3cd18fcb9c339da",
            "00f56ff6efd64e30aa1bff8fdbb12f6c",
            "1ee24ac3e77140c6898a868c2410d116",
            "881d6dd2d27e47b6ad83a10f3345c0df",
            "f1bb1ee7b4254610af82f39fc7413311",
            "734c8c1fe6b841d68471782f37ae186a",
            "45d1672bcd704a04934232d3d94a560d",
            "5458245ad1334eb2b9acfff00d6aed06",
            "9df421916adc4d13b8d4415106e7d66d",
            "7e17a2fa30d44943a15521710618623d",
            "75acf734fdbd471ca82bf23252198843",
            "97013ff4e5844094a2a1ac740c4eba6c",
            "321db5a69fef46bab10662403f531add",
            "0de9e089d75d43e9b21c34c5e2196a8e",
            "b94d5c8e4a7444bf81e13eddd9534097",
            "151fcd44e27b42749cf409c439176d36",
            "8c7ed97e734c41b5bf75b0bee6258366",
            "bc84e7267b2b4b90a8e74d9b17e84f66",
            "78a3df32e8ce43fb82d83b37c4e1684d",
            "042d1f8f7c1f46558815f8d7c76f2793",
            "9420b9809b8847c6a62d6ad7e27cfe16",
            "5e7f167d223a405f9bd104f3473193a9",
            "5c80d99ace524ec7a420aa0b876d20ce",
            "a199b2bc8d854002b5a1afce5fb66935"
          ]
        },
        "id": "A1hgb1e4HlNj",
        "outputId": "4c2d4612-1493-4b7f-e77b-c74eb7c37602"
      },
      "outputs": [
        {
          "data": {
            "application/vnd.jupyter.widget-view+json": {
              "model_id": "577b94a217a54eb4838999a17ce04f8a",
              "version_major": 2,
              "version_minor": 0
            },
            "text/plain": [
              "adapter_model.safetensors:   0%|          | 0.00/7.11M [00:00<?, ?B/s]"
            ]
          },
          "metadata": {},
          "output_type": "display_data"
        },
        {
          "data": {
            "application/vnd.jupyter.widget-view+json": {
              "model_id": "e41f63e696614656bd4d96faaf7f70d4",
              "version_major": 2,
              "version_minor": 0
            },
            "text/plain": [
              "README.md:   0%|          | 0.00/5.17k [00:00<?, ?B/s]"
            ]
          },
          "metadata": {},
          "output_type": "display_data"
        },
        {
          "data": {
            "application/vnd.jupyter.widget-view+json": {
              "model_id": "44cb0672bb9b4e3f8062e6be99f0de8b",
              "version_major": 2,
              "version_minor": 0
            },
            "text/plain": [
              "Upload 2 LFS files:   0%|          | 0/2 [00:00<?, ?it/s]"
            ]
          },
          "metadata": {},
          "output_type": "display_data"
        },
        {
          "data": {
            "application/vnd.jupyter.widget-view+json": {
              "model_id": "1ee24ac3e77140c6898a868c2410d116",
              "version_major": 2,
              "version_minor": 0
            },
            "text/plain": [
              "tokenizer.json:   0%|          | 0.00/32.2M [00:00<?, ?B/s]"
            ]
          },
          "metadata": {},
          "output_type": "display_data"
        },
        {
          "data": {
            "application/vnd.jupyter.widget-view+json": {
              "model_id": "0de9e089d75d43e9b21c34c5e2196a8e",
              "version_major": 2,
              "version_minor": 0
            },
            "text/plain": [
              "sentencepiece.bpe.model:   0%|          | 0.00/4.85M [00:00<?, ?B/s]"
            ]
          },
          "metadata": {},
          "output_type": "display_data"
        },
        {
          "data": {
            "application/vnd.google.colaboratory.intrinsic+json": {
              "type": "string"
            },
            "text/plain": [
              "CommitInfo(commit_url='https://huggingface.co/drakensberg85/English-Zulu_NLLB_FT_model/commit/1e020db965af2d1970572f1ff551d5b28792aeae', commit_message='Upload tokenizer', commit_description='', oid='1e020db965af2d1970572f1ff551d5b28792aeae', pr_url=None, repo_url=RepoUrl('https://huggingface.co/drakensberg85/English-Zulu_NLLB_FT_model', endpoint='https://huggingface.co', repo_type='model', repo_id='drakensberg85/English-Zulu_NLLB_FT_model'), pr_revision=None, pr_num=None)"
            ]
          },
          "execution_count": 57,
          "metadata": {},
          "output_type": "execute_result"
        }
      ],
      "source": [
        "from huggingface_hub import HfApi, HfFolder\n",
        "from transformers import AutoTokenizer, AutoModelForSeq2SeqLM\n",
        "\n",
        "# Define repo details\n",
        "repo_name = \"drakensberg85/English-Zulu_NLLB_FT_model\"\n",
        "model_path = f\"{save_dir}/En-Zu_FT_model\"\n",
        "\n",
        "# Upload using transformers\n",
        "AutoModelForSeq2SeqLM.from_pretrained(model_path).push_to_hub(repo_name)\n",
        "AutoTokenizer.from_pretrained(model_path).push_to_hub(repo_name)"
      ]
    },
    {
      "cell_type": "markdown",
      "metadata": {
        "id": "BI3p6I-d9NZH"
      },
      "source": [
        "## **TensorBoard Logging and Setup**"
      ]
    },
    {
      "cell_type": "code",
      "execution_count": null,
      "metadata": {
        "id": "VcKoftke9NXZ"
      },
      "outputs": [],
      "source": [
        "# writer = SummaryWriter(f\"{save_dir}/logs\")\n",
        "# print(\"Training complete. View metrics using TensorBoard:\")\n",
        "# print(f\"Run this in Colab terminal: tensorboard --logdir={save_dir}/logs\")"
      ]
    },
    {
      "cell_type": "code",
      "execution_count": null,
      "metadata": {
        "id": "YZQqrrLb9NTd"
      },
      "outputs": [],
      "source": [
        "# %reload_ext tensorboard\n",
        "# %tensorboard --logdir \"/content/drive/MyDrive/Colab Notebooks/NLLB_600M/En-Zu_LaTn/logs\""
      ]
    },
    {
      "cell_type": "markdown",
      "metadata": {
        "id": "igDlKhBK9NQb"
      },
      "source": [
        "## **Inference Check**"
      ]
    },
    {
      "cell_type": "code",
      "execution_count": null,
      "metadata": {
        "id": "YdRXyhpQw_-i"
      },
      "outputs": [],
      "source": [
        "from transformers import AutoTokenizer, AutoModelForSeq2SeqLM\n",
        "import torch\n",
        "\n",
        "# Use the correct model path\n",
        "model_path = f\"{save_dir}/En-Zu_FT_model\"\n",
        "\n",
        "# Load tokenizer and model from local files\n",
        "tokenizer = AutoTokenizer.from_pretrained(model_path, local_files_only=True)\n",
        "model = AutoModelForSeq2SeqLM.from_pretrained(model_path, local_files_only=True)\n",
        "\n",
        "# Send model to appropriate device\n",
        "device = torch.device(\"cuda\" if torch.cuda.is_available() else \"cpu\")\n",
        "model.to(device)\n",
        "\n",
        "# Example sentence for translation\n",
        "english_sentence = \"A frog on a lily, so still and so sly,Leaps through the hush as the dragonflies fly, Night hums a tune 'neath the moonlit sky.\"\n",
        "source_sentence = f\">>zul_Latn<< {english_sentence}\"\n",
        "\n",
        "# Tokenize input and move to device\n",
        "inputs = tokenizer(source_sentence, return_tensors=\"pt\").to(device)\n",
        "\n",
        "# Generate translation\n",
        "with torch.no_grad():\n",
        "    output = model.generate(**inputs, max_length=128, num_beams=5, early_stopping=True)\n",
        "\n",
        "# Decode and print translation\n",
        "hausa_translation = tokenizer.decode(output[0], skip_special_tokens=True)\n",
        "\n",
        "print(f\"English: {english_sentence}\")\n",
        "print(f\"Zulu: {hausa_translation}\")\n"
      ]
    },
    {
      "cell_type": "markdown",
      "metadata": {
        "id": "Spj8CD8Uw_7b"
      },
      "source": [
        "## **Incorporating Chainlit**"
      ]
    },
    {
      "cell_type": "code",
      "execution_count": null,
      "metadata": {
        "id": "uBI_xyl1w_4g"
      },
      "outputs": [],
      "source": [
        "%%writefile app.py\n",
        "\n",
        "import chainlit as cl\n",
        "from transformers import AutoModelForSeq2SeqLM, AutoTokenizer\n",
        "import torch\n",
        "\n",
        "\n",
        "# Load model & tokenizer\n",
        "model_path = f\"{save_dir}/En-Zu_FT_model\"\n",
        "tokenizer = AutoTokenizer.from_pretrained(model_path)\n",
        "model = AutoModelForSeq2SeqLM.from_pretrained(model_path).to(\"cuda\" if torch.cuda.is_available() else \"cpu\")\n",
        "\n",
        "@cl.on_chat_start\n",
        "async def start():\n",
        "    await cl.Message(content=\"👋 Welcome! Type something in English and I'll translate it to Zulu!\").send()\n",
        "\n",
        "@cl.on_message\n",
        "async def main(message: cl.Message):\n",
        "    input_text = f\">>zul_Latn<< {message.content}\"\n",
        "    inputs = tokenizer(input_text, return_tensors=\"pt\").to(model.device)\n",
        "\n",
        "    # Create an empty Chainlit message to stream into\n",
        "    response = cl.Message(content=\"\")\n",
        "    await response.send()\n",
        "\n",
        "    # Generate tokens step-by-step\n",
        "    output_tokens = model.generate(\n",
        "        **inputs,\n",
        "        max_length=128,\n",
        "        num_beams=1,  # Beam search disables streaming behavior\n",
        "        do_sample=False,\n",
        "        output_scores=False,\n",
        "        return_dict_in_generate=True\n",
        "    )\n",
        "\n",
        "    # Stream tokens (you can simulate streaming with a short delay per chunk if needed)\n",
        "    output_text = tokenizer.decode(output_tokens.sequences[0], skip_special_tokens=True)\n",
        "\n",
        "    # Simulate streaming (token-by-token)\n",
        "    for token in output_text.split():\n",
        "        response.content += token + \" \"\n",
        "        await response.update()\n",
        "\n",
        "    # Final update\n",
        "    await response.update()\n"
      ]
    },
    {
      "cell_type": "code",
      "execution_count": null,
      "metadata": {
        "id": "mycaZysfw_o4"
      },
      "outputs": [],
      "source": []
    }
  ],
  "metadata": {
    "colab": {
      "provenance": [],
      "include_colab_link": true
    },
    "kernelspec": {
      "display_name": "Python 3",
      "name": "python3"
    },
    "language_info": {
      "name": "python"
    }
  },
  "nbformat": 4,
  "nbformat_minor": 0
}